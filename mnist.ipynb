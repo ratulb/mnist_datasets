{
  "cells": [
    {
      "cell_type": "markdown",
      "metadata": {
        "id": "view-in-github",
        "colab_type": "text"
      },
      "source": [
        "<a href=\"https://colab.research.google.com/github/ratulb/mnist_datasets/blob/main/mnist.ipynb\" target=\"_parent\"><img src=\"https://colab.research.google.com/assets/colab-badge.svg\" alt=\"Open In Colab\"/></a>"
      ]
    },
    {
      "cell_type": "code",
      "source": [
        "!pip install mnist_datasets"
      ],
      "metadata": {
        "id": "mTUIx8DcmY92",
        "outputId": "bd2c58c9-cbb5-4c3d-b1f0-eeea8d7f6ce7",
        "colab": {
          "base_uri": "https://localhost:8080/"
        }
      },
      "execution_count": 44,
      "outputs": [
        {
          "output_type": "stream",
          "name": "stdout",
          "text": [
            "Requirement already satisfied: mnist_datasets in /usr/local/lib/python3.11/dist-packages (0.12)\n",
            "Requirement already satisfied: numpy in /usr/local/lib/python3.11/dist-packages (from mnist_datasets) (2.0.2)\n",
            "Requirement already satisfied: tqdm in /usr/local/lib/python3.11/dist-packages (from mnist_datasets) (4.67.1)\n"
          ]
        }
      ]
    },
    {
      "cell_type": "code",
      "source": [
        "import random\n",
        "\n",
        "import numpy as np\n",
        "import torch\n",
        "import torch.nn as nn\n",
        "import torch.nn.functional as F\n",
        "import torch.optim as optim\n",
        "from torch.utils.data import TensorDataset, DataLoader\n",
        "from mnist_datasets import MNISTLoader"
      ],
      "metadata": {
        "id": "xhO8m-C7kXn2"
      },
      "execution_count": 45,
      "outputs": []
    },
    {
      "cell_type": "code",
      "source": [
        "loader = MNISTLoader(folder=\"./data\")"
      ],
      "metadata": {
        "id": "t0FZdWN_vkg3",
        "outputId": "50ef7228-2b6e-4f32-f95c-d6e1f43bb0e2",
        "colab": {
          "base_uri": "https://localhost:8080/"
        }
      },
      "execution_count": 46,
      "outputs": [
        {
          "output_type": "stream",
          "name": "stderr",
          "text": [
            "Downloading MNIST files: 100%|██████████| 4/4 [00:00<00:00, 13876.94it/s]\n"
          ]
        }
      ]
    },
    {
      "cell_type": "code",
      "source": [
        "# Load train data\n",
        "images, labels = loader.load()"
      ],
      "metadata": {
        "id": "QEEwlA_uk5k-"
      },
      "execution_count": 47,
      "outputs": []
    },
    {
      "cell_type": "code",
      "source": [
        "images = images.astype(np.float32) / 255.0  # Convert to [0, 1]\n",
        "images = (images - 0.5) / 0.5 # transforms.Normalize((0.5,), (0.5,))\n",
        "images = images.reshape(-1, 1, 28, 28) # Pytorch expect in (batch_size, channels, height, width)\n",
        "images = torch.from_numpy(images)\n",
        "labels = torch.from_numpy(labels).long()"
      ],
      "metadata": {
        "id": "bon32R76wtlQ"
      },
      "execution_count": 48,
      "outputs": []
    },
    {
      "cell_type": "code",
      "source": [
        "# Load test data\n",
        "test_images, test_labels = loader.load(train=False)"
      ],
      "metadata": {
        "id": "MzcKk7_SvUiX"
      },
      "execution_count": 49,
      "outputs": []
    },
    {
      "cell_type": "code",
      "source": [
        "test_images = test_images.astype(np.float32) / 255.0  # Convert to [0, 1]\n",
        "test_images = (test_images - 0.5) / 0.5 # transforms.Normalize((0.5,), (0.5,))\n",
        "test_images = test_images.reshape(-1, 1, 28, 28) # Pytorch expect in (batch_size, channels, height, width)\n",
        "test_images = torch.from_numpy(test_images)\n",
        "test_labels = torch.from_numpy(test_labels).long()"
      ],
      "metadata": {
        "id": "GWPyW0Pomnf2"
      },
      "execution_count": 50,
      "outputs": []
    },
    {
      "cell_type": "code",
      "source": [
        "# Wrap training/test data in datasets\n",
        "train_dataset = TensorDataset(images, labels)\n",
        "test_dataset = TensorDataset(test_images, test_labels)"
      ],
      "metadata": {
        "id": "xKfEHo8wn5kG"
      },
      "execution_count": 51,
      "outputs": []
    },
    {
      "cell_type": "code",
      "source": [
        "# Create dataloaders\n",
        "train_loader = torch.utils.data.DataLoader(\n",
        "        dataset=train_dataset, batch_size=128, shuffle=True\n",
        "    )\n",
        "test_loader = torch.utils.data.DataLoader(\n",
        "        dataset=test_dataset, batch_size=128, shuffle=False\n",
        "    )"
      ],
      "metadata": {
        "id": "TOVzXzYsxfWx"
      },
      "execution_count": 52,
      "outputs": []
    },
    {
      "cell_type": "code",
      "source": [
        "def set_seeds(seed=42):\n",
        "    \"\"\"Sets seed on CPU\"\"\"\n",
        "    random.seed(seed)\n",
        "    np.random.seed(seed)\n",
        "    torch.manual_seed(seed)"
      ],
      "metadata": {
        "id": "nvBXrBN-yAZA"
      },
      "execution_count": 53,
      "outputs": []
    },
    {
      "cell_type": "code",
      "source": [
        "class Model(nn.Module):\n",
        "    def __init__(self, input_size, hidden_size, num_classes):\n",
        "        super().__init__()\n",
        "        self.fc1 = nn.Linear(input_size, hidden_size)\n",
        "        self.relu = nn.ReLU()\n",
        "        self.fc2 = nn.Linear(hidden_size, num_classes)\n",
        "\n",
        "    def forward(self, x):\n",
        "        x = self.fc1(x)\n",
        "        x = self.relu(x)\n",
        "        x = self.fc2(x)\n",
        "        return x"
      ],
      "metadata": {
        "id": "eaeKmLxkyNEw"
      },
      "execution_count": 54,
      "outputs": []
    },
    {
      "cell_type": "code",
      "source": [
        "input_size = 28 * 28\n",
        "hidden_size = 512\n",
        "num_classes = 10\n",
        "num_epochs = 5\n",
        "learning_rate = 0.001\n",
        "set_seeds()\n",
        "model = Model(input_size, hidden_size, num_classes)\n",
        "\n",
        "loss_fn = nn.CrossEntropyLoss()\n",
        "optimizer = optim.RMSprop(model.parameters(), lr=learning_rate)\n",
        "\n",
        "total_steps = len(train_loader)\n",
        "for epoch in range(num_epochs):\n",
        "    for i, (images, labels) in enumerate(train_loader):\n",
        "        images = images.reshape(-1, 28 * 28)\n",
        "        outputs = model(images)\n",
        "        loss = loss_fn(outputs, labels)\n",
        "        optimizer.zero_grad()\n",
        "        loss.backward()\n",
        "        optimizer.step()\n",
        "\n",
        "        if (i + 1) % 100 == 0:\n",
        "            print(\n",
        "                f\"Epoch [{epoch + 1}/{num_epochs}], Step\"\n",
        "                f\" [{i + 1}/{total_steps}], Loss: {loss.item():.4f}\"\n",
        "            )\n",
        "\n",
        "model.eval()\n",
        "\n",
        "with torch.no_grad():\n",
        "    correct = 0\n",
        "    total = 0\n",
        "    for images, labels in test_loader:\n",
        "        images = images.reshape(-1, 28 * 28)\n",
        "        outputs = model(images)\n",
        "        probs = F.softmax(outputs, dim=1)\n",
        "        predicted = torch.argmax(probs, 1)\n",
        "        total += labels.size(0)\n",
        "        correct += (predicted == labels).sum().item()\n",
        "\n",
        "    print(\n",
        "        \"Accuracy of the network on the 10000 test images:\"\n",
        "        f\" {100 * correct / total} %\"\n",
        "    )\n",
        "\n",
        "# save weights in numpy binary format\n",
        "weights = {}\n",
        "for name, param in model.named_parameters():\n",
        "    weights[name] = param.detach().cpu().numpy()\n",
        "\n",
        "np.save(\"model_weights.npy\", weights)"
      ],
      "metadata": {
        "id": "gTGhppyeyalw",
        "outputId": "d32d4146-fb11-4830-f684-64f91aa52f61",
        "colab": {
          "base_uri": "https://localhost:8080/"
        }
      },
      "execution_count": 55,
      "outputs": [
        {
          "output_type": "stream",
          "name": "stdout",
          "text": [
            "Epoch [1/5], Step [100/469], Loss: 0.5339\n",
            "Epoch [1/5], Step [200/469], Loss: 0.2309\n",
            "Epoch [1/5], Step [300/469], Loss: 0.3278\n",
            "Epoch [1/5], Step [400/469], Loss: 0.2636\n",
            "Epoch [2/5], Step [100/469], Loss: 0.1068\n",
            "Epoch [2/5], Step [200/469], Loss: 0.2354\n",
            "Epoch [2/5], Step [300/469], Loss: 0.2362\n",
            "Epoch [2/5], Step [400/469], Loss: 0.1492\n",
            "Epoch [3/5], Step [100/469], Loss: 0.1151\n",
            "Epoch [3/5], Step [200/469], Loss: 0.1314\n",
            "Epoch [3/5], Step [300/469], Loss: 0.0741\n",
            "Epoch [3/5], Step [400/469], Loss: 0.1176\n",
            "Epoch [4/5], Step [100/469], Loss: 0.0630\n",
            "Epoch [4/5], Step [200/469], Loss: 0.0807\n",
            "Epoch [4/5], Step [300/469], Loss: 0.1502\n",
            "Epoch [4/5], Step [400/469], Loss: 0.1190\n",
            "Epoch [5/5], Step [100/469], Loss: 0.0242\n",
            "Epoch [5/5], Step [200/469], Loss: 0.0514\n",
            "Epoch [5/5], Step [300/469], Loss: 0.1006\n",
            "Epoch [5/5], Step [400/469], Loss: 0.0453\n",
            "Accuracy of the network on the 10000 test images: 97.35 %\n"
          ]
        }
      ]
    }
  ],
  "metadata": {
    "colab": {
      "name": "Welcome To Colab",
      "provenance": [],
      "include_colab_link": true
    },
    "kernelspec": {
      "display_name": "Python 3",
      "name": "python3"
    }
  },
  "nbformat": 4,
  "nbformat_minor": 0
}